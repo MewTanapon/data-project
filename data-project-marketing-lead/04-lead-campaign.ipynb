{
 "cells": [
  {
   "cell_type": "code",
   "execution_count": 16,
   "metadata": {},
   "outputs": [],
   "source": [
    "import pandas as pd\n",
    "import numpy as np"
   ]
  },
  {
   "cell_type": "markdown",
   "metadata": {},
   "source": [
    "Create Table for Lead Campaign Marketing for Credit Card Customer\n",
    "\n",
    "Bin10: Highest Score\n",
    "\n",
    "Bin1: Lowest Score\n",
    "\n",
    "***Assume that features from OOT1 are the latest features which were used for generating lead for this campaign"
   ]
  },
  {
   "cell_type": "code",
   "execution_count": 17,
   "metadata": {},
   "outputs": [
    {
     "data": {
      "text/html": [
       "<div>\n",
       "<style scoped>\n",
       "    .dataframe tbody tr th:only-of-type {\n",
       "        vertical-align: middle;\n",
       "    }\n",
       "\n",
       "    .dataframe tbody tr th {\n",
       "        vertical-align: top;\n",
       "    }\n",
       "\n",
       "    .dataframe thead th {\n",
       "        text-align: right;\n",
       "    }\n",
       "</style>\n",
       "<table border=\"1\" class=\"dataframe\">\n",
       "  <thead>\n",
       "    <tr style=\"text-align: right;\">\n",
       "      <th></th>\n",
       "      <th>Customer_ID</th>\n",
       "      <th>Predicted_Score</th>\n",
       "      <th>Bin</th>\n",
       "      <th>Promotion</th>\n",
       "      <th>Recommendation_Score</th>\n",
       "      <th>Promotion_Description</th>\n",
       "    </tr>\n",
       "  </thead>\n",
       "  <tbody>\n",
       "    <tr>\n",
       "      <th>0</th>\n",
       "      <td>66000477</td>\n",
       "      <td>0.623422</td>\n",
       "      <td>10</td>\n",
       "      <td>pro_restrnt12</td>\n",
       "      <td>0.200</td>\n",
       "      <td>Savor a Korean BBQ buffet at KBBQ with unlimited premium menu items and soft drinks for only 399 baht per person.</td>\n",
       "    </tr>\n",
       "    <tr>\n",
       "      <th>1</th>\n",
       "      <td>66000253</td>\n",
       "      <td>0.620668</td>\n",
       "      <td>10</td>\n",
       "      <td>pro_restrnt35</td>\n",
       "      <td>0.800</td>\n",
       "      <td>Experience a Japanese Izakaya dinner at Iconsiam with a free sake and earn 150 points.</td>\n",
       "    </tr>\n",
       "    <tr>\n",
       "      <th>2</th>\n",
       "      <td>66000440</td>\n",
       "      <td>0.618759</td>\n",
       "      <td>10</td>\n",
       "      <td>pro_restrnt44</td>\n",
       "      <td>0.600</td>\n",
       "      <td>Enjoy Thai fusion lunch at Gateway Ekamai with a 10% discount and earn 60 points.</td>\n",
       "    </tr>\n",
       "    <tr>\n",
       "      <th>3</th>\n",
       "      <td>66000607</td>\n",
       "      <td>0.616434</td>\n",
       "      <td>10</td>\n",
       "      <td>pro_restrnt12</td>\n",
       "      <td>0.333</td>\n",
       "      <td>Savor a Korean BBQ buffet at KBBQ with unlimited premium menu items and soft drinks for only 399 baht per person.</td>\n",
       "    </tr>\n",
       "    <tr>\n",
       "      <th>4</th>\n",
       "      <td>66000241</td>\n",
       "      <td>0.612907</td>\n",
       "      <td>10</td>\n",
       "      <td>pro_restrnt12</td>\n",
       "      <td>0.333</td>\n",
       "      <td>Savor a Korean BBQ buffet at KBBQ with unlimited premium menu items and soft drinks for only 399 baht per person.</td>\n",
       "    </tr>\n",
       "    <tr>\n",
       "      <th>...</th>\n",
       "      <td>...</td>\n",
       "      <td>...</td>\n",
       "      <td>...</td>\n",
       "      <td>...</td>\n",
       "      <td>...</td>\n",
       "      <td>...</td>\n",
       "    </tr>\n",
       "    <tr>\n",
       "      <th>995</th>\n",
       "      <td>66000528</td>\n",
       "      <td>0.160812</td>\n",
       "      <td>1</td>\n",
       "      <td>pro_restrnt03</td>\n",
       "      <td>0.600</td>\n",
       "      <td>Start your day with a Japanese breakfast at Siam Paragon. Get a 15% discount and earn 50 points on your bill.</td>\n",
       "    </tr>\n",
       "    <tr>\n",
       "      <th>996</th>\n",
       "      <td>66000549</td>\n",
       "      <td>0.159661</td>\n",
       "      <td>1</td>\n",
       "      <td>pro_restrnt12</td>\n",
       "      <td>0.333</td>\n",
       "      <td>Savor a Korean BBQ buffet at KBBQ with unlimited premium menu items and soft drinks for only 399 baht per person.</td>\n",
       "    </tr>\n",
       "    <tr>\n",
       "      <th>997</th>\n",
       "      <td>66000669</td>\n",
       "      <td>0.135515</td>\n",
       "      <td>1</td>\n",
       "      <td>pro_restrnt12</td>\n",
       "      <td>0.333</td>\n",
       "      <td>Savor a Korean BBQ buffet at KBBQ with unlimited premium menu items and soft drinks for only 399 baht per person.</td>\n",
       "    </tr>\n",
       "    <tr>\n",
       "      <th>998</th>\n",
       "      <td>66000187</td>\n",
       "      <td>0.130957</td>\n",
       "      <td>1</td>\n",
       "      <td>pro_restrnt02</td>\n",
       "      <td>0.800</td>\n",
       "      <td>Savor a luxurious lunch at an Italian restaurant in Central World. Get a free dessert with every main course and earn double points.</td>\n",
       "    </tr>\n",
       "    <tr>\n",
       "      <th>999</th>\n",
       "      <td>66000887</td>\n",
       "      <td>0.109191</td>\n",
       "      <td>1</td>\n",
       "      <td>pro_restrnt12</td>\n",
       "      <td>0.333</td>\n",
       "      <td>Savor a Korean BBQ buffet at KBBQ with unlimited premium menu items and soft drinks for only 399 baht per person.</td>\n",
       "    </tr>\n",
       "  </tbody>\n",
       "</table>\n",
       "<p>1000 rows × 6 columns</p>\n",
       "</div>"
      ],
      "text/plain": [
       "     Customer_ID  Predicted_Score  Bin      Promotion  Recommendation_Score  \\\n",
       "0       66000477         0.623422   10  pro_restrnt12                 0.200   \n",
       "1       66000253         0.620668   10  pro_restrnt35                 0.800   \n",
       "2       66000440         0.618759   10  pro_restrnt44                 0.600   \n",
       "3       66000607         0.616434   10  pro_restrnt12                 0.333   \n",
       "4       66000241         0.612907   10  pro_restrnt12                 0.333   \n",
       "..           ...              ...  ...            ...                   ...   \n",
       "995     66000528         0.160812    1  pro_restrnt03                 0.600   \n",
       "996     66000549         0.159661    1  pro_restrnt12                 0.333   \n",
       "997     66000669         0.135515    1  pro_restrnt12                 0.333   \n",
       "998     66000187         0.130957    1  pro_restrnt02                 0.800   \n",
       "999     66000887         0.109191    1  pro_restrnt12                 0.333   \n",
       "\n",
       "                                                                                                                    Promotion_Description  \n",
       "0                       Savor a Korean BBQ buffet at KBBQ with unlimited premium menu items and soft drinks for only 399 baht per person.  \n",
       "1                                                  Experience a Japanese Izakaya dinner at Iconsiam with a free sake and earn 150 points.  \n",
       "2                                                       Enjoy Thai fusion lunch at Gateway Ekamai with a 10% discount and earn 60 points.  \n",
       "3                       Savor a Korean BBQ buffet at KBBQ with unlimited premium menu items and soft drinks for only 399 baht per person.  \n",
       "4                       Savor a Korean BBQ buffet at KBBQ with unlimited premium menu items and soft drinks for only 399 baht per person.  \n",
       "..                                                                                                                                    ...  \n",
       "995                         Start your day with a Japanese breakfast at Siam Paragon. Get a 15% discount and earn 50 points on your bill.  \n",
       "996                     Savor a Korean BBQ buffet at KBBQ with unlimited premium menu items and soft drinks for only 399 baht per person.  \n",
       "997                     Savor a Korean BBQ buffet at KBBQ with unlimited premium menu items and soft drinks for only 399 baht per person.  \n",
       "998  Savor a luxurious lunch at an Italian restaurant in Central World. Get a free dessert with every main course and earn double points.  \n",
       "999                     Savor a Korean BBQ buffet at KBBQ with unlimited premium menu items and soft drinks for only 399 baht per person.  \n",
       "\n",
       "[1000 rows x 6 columns]"
      ]
     },
     "execution_count": 17,
     "metadata": {},
     "output_type": "execute_result"
    }
   ],
   "source": [
    "file_path_propensity_model = r''\n",
    "file_path_collaborative_filtering = r''\n",
    "file_path_campaign_promotion_description = r''\n",
    "\n",
    "df_propensity_model = pd.read_csv(file_path_propensity_model)\n",
    "df_collaborative_filtering = pd.read_csv(file_path_collaborative_filtering)\n",
    "df_campaign_promotion_description = pd.read_csv(file_path_campaign_promotion_description)\n",
    "df_lead_camapaign = pd.merge(df_propensity_model, df_collaborative_filtering, on='Customer_ID', how='left')\n",
    "df_lead_camapaign = pd.merge(df_lead_camapaign, df_campaign_promotion_description, on='Promotion', how='left')\n",
    "\n",
    "pd.set_option('display.max_colwidth', None)\n",
    "df_lead_camapaign.drop('Actual', axis=1)"
   ]
  },
  {
   "cell_type": "markdown",
   "metadata": {},
   "source": [
    "Save Lead"
   ]
  },
  {
   "cell_type": "code",
   "execution_count": null,
   "metadata": {},
   "outputs": [],
   "source": [
    "# file_path = r''\n",
    "# data.to_csv(file_path, index=False)"
   ]
  },
  {
   "cell_type": "code",
   "execution_count": 18,
   "metadata": {},
   "outputs": [
    {
     "data": {
      "text/html": [
       "<div>\n",
       "<style scoped>\n",
       "    .dataframe tbody tr th:only-of-type {\n",
       "        vertical-align: middle;\n",
       "    }\n",
       "\n",
       "    .dataframe tbody tr th {\n",
       "        vertical-align: top;\n",
       "    }\n",
       "\n",
       "    .dataframe thead th {\n",
       "        text-align: right;\n",
       "    }\n",
       "</style>\n",
       "<table border=\"1\" class=\"dataframe\">\n",
       "  <thead>\n",
       "    <tr style=\"text-align: right;\">\n",
       "      <th></th>\n",
       "      <th>Customer_ID</th>\n",
       "      <th>Predicted_Score</th>\n",
       "      <th>Actual</th>\n",
       "      <th>Bin</th>\n",
       "      <th>Promotion</th>\n",
       "      <th>Recommendation_Score</th>\n",
       "      <th>Promotion_Description</th>\n",
       "    </tr>\n",
       "  </thead>\n",
       "  <tbody>\n",
       "    <tr>\n",
       "      <th>675</th>\n",
       "      <td>66000287</td>\n",
       "      <td>0.43718</td>\n",
       "      <td>0</td>\n",
       "      <td>4</td>\n",
       "      <td>pro_restrnt50</td>\n",
       "      <td>0.2</td>\n",
       "      <td>Savor Italian restaurant lunch at Central Ladprao with a free appetizer and earn 90 points.</td>\n",
       "    </tr>\n",
       "  </tbody>\n",
       "</table>\n",
       "</div>"
      ],
      "text/plain": [
       "     Customer_ID  Predicted_Score  Actual  Bin      Promotion  \\\n",
       "675     66000287          0.43718       0    4  pro_restrnt50   \n",
       "\n",
       "     Recommendation_Score  \\\n",
       "675                   0.2   \n",
       "\n",
       "                                                                           Promotion_Description  \n",
       "675  Savor Italian restaurant lunch at Central Ladprao with a free appetizer and earn 90 points.  "
      ]
     },
     "execution_count": 18,
     "metadata": {},
     "output_type": "execute_result"
    }
   ],
   "source": [
    "df_lead_camapaign[df_lead_camapaign['Promotion']=='pro_restrnt50']"
   ]
  },
  {
   "cell_type": "code",
   "execution_count": 19,
   "metadata": {},
   "outputs": [
    {
     "data": {
      "text/plain": [
       "<Axes: ylabel='Frequency'>"
      ]
     },
     "execution_count": 19,
     "metadata": {},
     "output_type": "execute_result"
    },
    {
     "data": {
      "image/png": "[encoded data removed]",
      "text/plain": [
       "<Figure size 640x480 with 1 Axes>"
      ]
     },
     "metadata": {},
     "output_type": "display_data"
    }
   ],
   "source": [
    "df_lead_camapaign['Predicted_Score'].plot.hist()"
   ]
  },
  {
   "cell_type": "code",
   "execution_count": 20,
   "metadata": {},
   "outputs": [
    {
     "data": {
      "text/plain": [
       "<Axes: ylabel='Frequency'>"
      ]
     },
     "execution_count": 20,
     "metadata": {},
     "output_type": "execute_result"
    },
    {
     "data": {
      "image/png": "[encoded data removed]",
      "text/plain": [
       "<Figure size 640x480 with 1 Axes>"
      ]
     },
     "metadata": {},
     "output_type": "display_data"
    }
   ],
   "source": [
    "df_lead_camapaign['Recommendation_Score'].plot.hist()"
   ]
  },
  {
   "cell_type": "code",
   "execution_count": 21,
   "metadata": {},
   "outputs": [
    {
     "data": {
      "text/plain": [
       "<Axes: ylabel='Frequency'>"
      ]
     },
     "execution_count": 21,
     "metadata": {},
     "output_type": "execute_result"
    },
    {
     "data": {
      "image/png": "[encoded data removed]",
      "text/plain": [
       "<Figure size 640x480 with 1 Axes>"
      ]
     },
     "metadata": {},
     "output_type": "display_data"
    }
   ],
   "source": [
    "df_lead_camapaign['Promotion'].str.replace('pro_restrnt', '').astype('int64').plot.hist()"
   ]
  },
  {
   "cell_type": "code",
   "execution_count": null,
   "metadata": {},
   "outputs": [],
   "source": []
  }
 ],
 "metadata": {
  "kernelspec": {
   "display_name": "env",
   "language": "python",
   "name": "python3"
  },
  "language_info": {
   "codemirror_mode": {
    "name": "ipython",
    "version": 3
   },
   "file_extension": ".py",
   "mimetype": "text/x-python",
   "name": "python",
   "nbconvert_exporter": "python",
   "pygments_lexer": "ipython3",
   "version": "3.11.9"
  }
 },
 "nbformat": 4,
 "nbformat_minor": 2
}
